{
 "cells": [
  {
   "cell_type": "code",
   "execution_count": null,
   "metadata": {
    "collapsed": false
   },
   "outputs": [],
   "source": [
    "from __future__ import print_function\n",
    "from googleapiclient.discovery import build\n",
    "from httplib2 import Http\n",
    "from oauth2client import file, client, tools"
   ]
  },
  {
   "cell_type": "code",
   "execution_count": null,
   "metadata": {
    "collapsed": true
   },
   "outputs": [],
   "source": [
    "import base64\n",
    "import pandas as pd"
   ]
  },
  {
   "cell_type": "code",
   "execution_count": null,
   "metadata": {
    "collapsed": true
   },
   "outputs": [],
   "source": [
    "from email.mime.audio import MIMEAudio\n",
    "from email.mime.base import MIMEBase\n",
    "from email.mime.image import MIMEImage\n",
    "from email.mime.multipart import MIMEMultipart\n",
    "from email.mime.text import MIMEText\n",
    "import mimetypes\n",
    "import os"
   ]
  },
  {
   "cell_type": "code",
   "execution_count": null,
   "metadata": {
    "collapsed": true
   },
   "outputs": [],
   "source": [
    "from apiclient import errors\n",
    "from bs4 import BeautifulSoup\n",
    "\n",
    "import argparse"
   ]
  },
  {
   "cell_type": "code",
   "execution_count": null,
   "metadata": {
    "collapsed": true
   },
   "outputs": [],
   "source": [
    "def process_values(values):\n",
    "    df = pd.DataFrame(values).transpose()\n",
    "    df = df.drop(1,axis=1) #spurious axis\n",
    "    \n",
    "    df = df.applymap(lambda x: None if x == 'empty' or x == '' else x) # handle empty\n",
    "    df = df[df.columns[~df.isna().apply(all,axis=0)]] ## filter fully empty columns\n",
    "    df = df.reset_index(drop=True)\n",
    "    return df\n",
    "\n",
    "def render_table(df):\n",
    "    # make it look prettier:\n",
    "    df.loc[0:1,2] = df.loc[0:1,0] # pet peeve: show coach cox above number.\n",
    "    df.loc[0:1,0] = ''\n",
    "    df = df.fillna('')\n",
    "    \n",
    "    table_styles = [dict(selector='', props=[('margin', 0), ('font-family', 'monospace')]),\n",
    "             dict(selector='.row0', props=[('background-color', '#aaa')]),\n",
    "            dict(selector='.row1', props=[('background-color', '#ccc')]),\n",
    "            dict(selector='.col1', props=[('background-color', '#ccc')]),\n",
    "                    dict(selector='tr:hover', props=[('background-color', '#ffff99')]),\n",
    "               ]\n",
    "    obj = df.style.set_table_styles(table_styles).hide_index()\n",
    "    rend = obj.render(head='')\n",
    "    \n",
    "    soup = BeautifulSoup(rend, 'html.parser')\n",
    "    stl = soup.find_all('style')[0]\n",
    "    tab = soup.find_all('table')[0]\n",
    "    \n",
    "    return stl.__repr__(),tab.__repr__()"
   ]
  },
  {
   "cell_type": "code",
   "execution_count": null,
   "metadata": {
    "collapsed": true
   },
   "outputs": [],
   "source": [
    "# If modifying these scopes, delete the file token.json.\n",
    "SCOPES = ['https://www.googleapis.com/auth/spreadsheets.readonly',\n",
    "          'https://www.googleapis.com/auth/gmail.send']"
   ]
  },
  {
   "cell_type": "code",
   "execution_count": null,
   "metadata": {
    "collapsed": false
   },
   "outputs": [],
   "source": [
    "LTR=False\n",
    "\n",
    "if LTR:\n",
    "    DAYS = {a:b for (a,b) in zip(range(5),range(5))} # M-F\n",
    "    K_LENGTH = 10\n",
    "    COL_END = 'G'\n",
    "    K_START = 6\n",
    "    SHEET = 'Daily schedule'\n",
    "    #GID = 1189084842\n",
    "    GID = 0\n",
    "    #TO=['mitrc-active@mit.edu']\n",
    "    TO=['ruizhi@mit.edu']\n",
    "else:\n",
    "    DAYS = {2:0,4:1} # Wednesday/Friday\n",
    "    COL_END = 'F'\n",
    "    K_LENGTH = 15\n",
    "    K_START = 6\n",
    "    SHEET = 'LTR Daily Schedule'\n",
    "    #GID = 463043139\n",
    "    GID = 0\n",
    "    TO=['mitrc-ltr@mit.edu',\n",
    "        'mitrc-active@mit.edu', \n",
    "        'glennbeau@comcast.net']\n",
    "    \n",
    "SPREADSHEET_ID = '1QzHmzDO9T3sndExFtJ3Pyk_hzFJddGt1ahPIjQXZGCs'\n",
    "SPREADSHEET_LINK= 'https://docs.google.com/spreadsheets/d/{sid}/edit#gid={gid}'.format(sid=SPREADSHEET_ID, gid=GID)\n",
    "\n",
    "def get_cell_range(ts):\n",
    "    ''' use the timestamp for the day you want, not for the email day'''\n",
    "    idx = DAYS[2]#ts.dayofweek]\n",
    "    start = K_START + idx*K_LENGTH ## eg. Monday => dayofweek=0 => answer=A6:H15\n",
    "    end = start + K_LENGTH - 1\n",
    "    return 'A{start}:{col_end}{end}'.format(start=start, col_end=COL_END, end=end)\n",
    "\n",
    "curr_ts = pd.Timestamp.today(tz='EST')\n",
    "row_ts = curr_ts + pd.to_timedelta('1 day')\n",
    "if row_ts.dayofweek not in DAYS.keys():\n",
    "    print('no need to send reminder right now: ', curr_ts)\n",
    "    \n",
    "store = file.Storage('token.json')\n",
    "# creds = store.get()\n",
    "# if not creds or creds.invalid:\n",
    "flow = client.flow_from_clientsecrets('credentials2.json', SCOPES)\n",
    "creds = tools.run_flow(flow, store)\n",
    "service = build('sheets', 'v4', http=creds.authorize(Http()))\n",
    "\n",
    "\n"
   ]
  },
  {
   "cell_type": "code",
   "execution_count": null,
   "metadata": {
    "collapsed": false
   },
   "outputs": [],
   "source": [
    "cell_range= get_cell_range(row_ts)\n",
    "range_name = '{sheet}!{cell_range}'.format(sheet=SHEET, cell_range=cell_range)\n",
    "\n",
    "result = service.spreadsheets().values().get(spreadsheetId=SPREADSHEET_ID,\n",
    "                                             majorDimension='COLUMNS',\n",
    "                                             range=range_name).execute()\n",
    "values = result.get('values', [])\n",
    "print(values)\n",
    "\n",
    "if not values:\n",
    "    print('No data found.')\n",
    "\n",
    "df = process_values(values) \n",
    "stl,tab = render_table(df)"
   ]
  },
  {
   "cell_type": "code",
   "execution_count": null,
   "metadata": {
    "collapsed": true
   },
   "outputs": [],
   "source": [
    "store = file.Storage('credentials.json')\n"
   ]
  },
  {
   "cell_type": "code",
   "execution_count": null,
   "metadata": {
    "collapsed": false
   },
   "outputs": [],
   "source": [
    "creds = store.get()"
   ]
  },
  {
   "cell_type": "code",
   "execution_count": null,
   "metadata": {
    "collapsed": true
   },
   "outputs": [],
   "source": []
  }
 ],
 "metadata": {
  "kernelspec": {
   "display_name": "Python 3",
   "language": "python",
   "name": "python3"
  },
  "language_info": {
   "codemirror_mode": {
    "name": "ipython",
    "version": 3
   },
   "file_extension": ".py",
   "mimetype": "text/x-python",
   "name": "python",
   "nbconvert_exporter": "python",
   "pygments_lexer": "ipython3",
   "version": "3.6.0"
  }
 },
 "nbformat": 4,
 "nbformat_minor": 2
}
