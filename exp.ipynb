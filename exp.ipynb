{
 "cells": [
  {
   "cell_type": "code",
   "execution_count": 1,
   "metadata": {
    "collapsed": false
   },
   "outputs": [],
   "source": [
    "import pandas as pd\n",
    "from bs4 import BeautifulSoup\n",
    "import bs4"
   ]
  },
  {
   "cell_type": "code",
   "execution_count": 2,
   "metadata": {
    "collapsed": true
   },
   "outputs": [],
   "source": [
    "values = [['coach', 'cox', 'Monday', 'Monday', 'Monday', 'Monday', 'Monday', 'Monday', 'Monday', 'Monday'], ['1', '1', '1', '1', '1', '1', '1', '1', '1', '1'], ['*', '', '1', '2', '3', '4', '5', '6', '7', '8'], ['Glenn Beauchemin', 'Olivia Viessmann', 'Anne Fraysse', 'Elise Ledieu', 'Beth Pearce', 'KellyAnn Tsai', 'Tolga Durak', 'Jérôme Michon', 'Richard Park', 'Kevin Sitek'], ['Glenn Beauchemin', 'Ryan Bellmore', 'Aimee Gillespie', 'Corina MacIsaac', 'empty', 'Kasturi Shah', 'Caroline Sorensen', 'Karin Strittmatter', 'Rebecca Taft', 'Audrey Bazerghi'], ['John Cotter', 'Nanako Ruping', 'Dana Boebinger', 'Aileen Devlin', 'Andrew Cunningham', 'Ronan Doorley', 'Ruizhi (Ray) Liao', 'Will Suter', 'Arno Schneuwly', 'Mary Kate Manhard'], ['empty', 'empty', 'empty', 'empty', 'empty', 'empty', 'empty', 'empty', 'empty', 'empty'], ['empty', 'empty', 'empty', 'empty', 'empty', 'empty', 'empty', 'empty', 'empty', 'empty']]\n",
    "#values = [['coach', 'cox', 'Tuesday', 'Tuesday', 'Tuesday', 'Tuesday', 'Tuesday', 'Tuesday', 'Tuesday', 'Tuesday'], ['2', '2', '2', '2', '2', '2', '2', '2', '2', '2'], ['*', '', '1', '2', '3', '4', '5', '6', '7', '8'], ['John Cotter', 'Jayanth Uppaluri', 'Anita Chandrahas', 'Joleen Heiderich', 'Mary Kate Manhard', 'Jim Serdy ', 'Kevin Sitek', 'Gowtham Thakku', 'Ruizhi (Ray) Liao', 'Christine Kerney-Slocombe'], ['Andre Bastos', 'Andrew Cunningham', 'Audrey Bazerghi', 'Shijie Gu', 'Richard McWalter', 'Will Suter', 'Yongjin Park', 'Arno Schneuwly', 'Luzi Sennhauser', 'Sarah Trice'], ['empty', 'empty', 'empty', 'empty', 'empty', 'empty', 'empty', 'empty', 'empty', 'empty'], ['empty', 'empty', 'empty', 'empty', 'empty', 'empty', 'empty', 'empty', 'empty', 'empty'], ['Glenn Beauchemin', 'Ryan Bellmore', 'Yang Dai', 'Juan Pablo Duarte Pardo', 'Marco Lucente', 'Leandro Araujo', 'Elisa Carmo', 'Nick Yerin', 'Leonardo Aguiar', 'Marien Kamal']]"
   ]
  },
  {
   "cell_type": "code",
   "execution_count": 3,
   "metadata": {
    "collapsed": true
   },
   "outputs": [],
   "source": [
    "def process_values(values):\n",
    "    df = pd.DataFrame(values).transpose()\n",
    "    df = df.drop(1,axis=1) #spurious axis\n",
    "    \n",
    "    df = df.applymap(lambda x: None if x == 'empty' else x) # handle empty\n",
    "    df = df[df.columns[~df.isna().apply(all,axis=0)]] ## filter fully empty columns\n",
    "    df = df.reset_index(drop=True)\n",
    "    return df\n",
    "\n",
    "def render_table(df):\n",
    "    # make it look prettier:\n",
    "    df.loc[0:1,2] = df.loc[0:1,0] # pet peeve: show coach cox above number.\n",
    "    df.loc[0:1,0] = ''\n",
    "    df = df.fillna('')\n",
    "    \n",
    "    table_styles = [dict(selector='', props=[('margin', 0), ('font-family', 'monospace')]),\n",
    "             dict(selector='.row0', props=[('background-color', '#aaa')]),\n",
    "            dict(selector='.row1', props=[('background-color', '#ccc')]),\n",
    "            dict(selector='.col1', props=[('background-color', '#ccc')]),\n",
    "                    dict(selector='tr:hover', props=[('background-color', '#ffff99')]),\n",
    "               ]\n",
    "    obj = df.style.set_table_styles(table_styles).hide_index()\n",
    "    rend = obj.render(head='')\n",
    "    \n",
    "    soup = BeautifulSoup(rend, 'html.parser')\n",
    "    stl = soup.find_all('style')[0]\n",
    "    tab = soup.find_all('table')[0]\n",
    "    \n",
    "    return stl.__repr__(),tab.__repr__()"
   ]
  },
  {
   "cell_type": "code",
   "execution_count": 4,
   "metadata": {
    "collapsed": false
   },
   "outputs": [
    {
     "name": "stderr",
     "output_type": "stream",
     "text": [
      "/data/vision/polina/shared_software/anaconda3-4.3.1/lib/python3.6/site-packages/matplotlib/font_manager.py:280: UserWarning: Matplotlib is building the font cache using fc-list. This may take a moment.\n",
      "  'Matplotlib is building the font cache using fc-list. '\n"
     ]
    }
   ],
   "source": [
    "df = process_values(values)\n",
    "stl,tab = render_table(df)"
   ]
  },
  {
   "cell_type": "code",
   "execution_count": 5,
   "metadata": {
    "collapsed": true
   },
   "outputs": [],
   "source": [
    "from IPython.display import HTML"
   ]
  },
  {
   "cell_type": "code",
   "execution_count": 6,
   "metadata": {
    "collapsed": false
   },
   "outputs": [
    {
     "data": {
      "text/html": [
       "<table id=\"T_9b24f65c_58b8_11e9_aaad_f04da22028cb\">\n",
       "<thead></thead>\n",
       "<tbody> <tr>\n",
       "<td class=\"data row0 col0\" id=\"T_9b24f65c_58b8_11e9_aaad_f04da22028cbrow0_col0\"></td>\n",
       "<td class=\"data row0 col1\" id=\"T_9b24f65c_58b8_11e9_aaad_f04da22028cbrow0_col1\">coach</td>\n",
       "<td class=\"data row0 col2\" id=\"T_9b24f65c_58b8_11e9_aaad_f04da22028cbrow0_col2\">Glenn Beauchemin</td>\n",
       "<td class=\"data row0 col3\" id=\"T_9b24f65c_58b8_11e9_aaad_f04da22028cbrow0_col3\">Glenn Beauchemin</td>\n",
       "<td class=\"data row0 col4\" id=\"T_9b24f65c_58b8_11e9_aaad_f04da22028cbrow0_col4\">John Cotter</td>\n",
       "</tr> <tr>\n",
       "<td class=\"data row1 col0\" id=\"T_9b24f65c_58b8_11e9_aaad_f04da22028cbrow1_col0\"></td>\n",
       "<td class=\"data row1 col1\" id=\"T_9b24f65c_58b8_11e9_aaad_f04da22028cbrow1_col1\">cox</td>\n",
       "<td class=\"data row1 col2\" id=\"T_9b24f65c_58b8_11e9_aaad_f04da22028cbrow1_col2\">Olivia Viessmann</td>\n",
       "<td class=\"data row1 col3\" id=\"T_9b24f65c_58b8_11e9_aaad_f04da22028cbrow1_col3\">Ryan Bellmore</td>\n",
       "<td class=\"data row1 col4\" id=\"T_9b24f65c_58b8_11e9_aaad_f04da22028cbrow1_col4\">Nanako Ruping</td>\n",
       "</tr> <tr>\n",
       "<td class=\"data row2 col0\" id=\"T_9b24f65c_58b8_11e9_aaad_f04da22028cbrow2_col0\">Monday</td>\n",
       "<td class=\"data row2 col1\" id=\"T_9b24f65c_58b8_11e9_aaad_f04da22028cbrow2_col1\">1</td>\n",
       "<td class=\"data row2 col2\" id=\"T_9b24f65c_58b8_11e9_aaad_f04da22028cbrow2_col2\">Anne Fraysse</td>\n",
       "<td class=\"data row2 col3\" id=\"T_9b24f65c_58b8_11e9_aaad_f04da22028cbrow2_col3\">Aimee Gillespie</td>\n",
       "<td class=\"data row2 col4\" id=\"T_9b24f65c_58b8_11e9_aaad_f04da22028cbrow2_col4\">Dana Boebinger</td>\n",
       "</tr> <tr>\n",
       "<td class=\"data row3 col0\" id=\"T_9b24f65c_58b8_11e9_aaad_f04da22028cbrow3_col0\">Monday</td>\n",
       "<td class=\"data row3 col1\" id=\"T_9b24f65c_58b8_11e9_aaad_f04da22028cbrow3_col1\">2</td>\n",
       "<td class=\"data row3 col2\" id=\"T_9b24f65c_58b8_11e9_aaad_f04da22028cbrow3_col2\">Elise Ledieu</td>\n",
       "<td class=\"data row3 col3\" id=\"T_9b24f65c_58b8_11e9_aaad_f04da22028cbrow3_col3\">Corina MacIsaac</td>\n",
       "<td class=\"data row3 col4\" id=\"T_9b24f65c_58b8_11e9_aaad_f04da22028cbrow3_col4\">Aileen Devlin</td>\n",
       "</tr> <tr>\n",
       "<td class=\"data row4 col0\" id=\"T_9b24f65c_58b8_11e9_aaad_f04da22028cbrow4_col0\">Monday</td>\n",
       "<td class=\"data row4 col1\" id=\"T_9b24f65c_58b8_11e9_aaad_f04da22028cbrow4_col1\">3</td>\n",
       "<td class=\"data row4 col2\" id=\"T_9b24f65c_58b8_11e9_aaad_f04da22028cbrow4_col2\">Beth Pearce</td>\n",
       "<td class=\"data row4 col3\" id=\"T_9b24f65c_58b8_11e9_aaad_f04da22028cbrow4_col3\"></td>\n",
       "<td class=\"data row4 col4\" id=\"T_9b24f65c_58b8_11e9_aaad_f04da22028cbrow4_col4\">Andrew Cunningham</td>\n",
       "</tr> <tr>\n",
       "<td class=\"data row5 col0\" id=\"T_9b24f65c_58b8_11e9_aaad_f04da22028cbrow5_col0\">Monday</td>\n",
       "<td class=\"data row5 col1\" id=\"T_9b24f65c_58b8_11e9_aaad_f04da22028cbrow5_col1\">4</td>\n",
       "<td class=\"data row5 col2\" id=\"T_9b24f65c_58b8_11e9_aaad_f04da22028cbrow5_col2\">KellyAnn Tsai</td>\n",
       "<td class=\"data row5 col3\" id=\"T_9b24f65c_58b8_11e9_aaad_f04da22028cbrow5_col3\">Kasturi Shah</td>\n",
       "<td class=\"data row5 col4\" id=\"T_9b24f65c_58b8_11e9_aaad_f04da22028cbrow5_col4\">Ronan Doorley</td>\n",
       "</tr> <tr>\n",
       "<td class=\"data row6 col0\" id=\"T_9b24f65c_58b8_11e9_aaad_f04da22028cbrow6_col0\">Monday</td>\n",
       "<td class=\"data row6 col1\" id=\"T_9b24f65c_58b8_11e9_aaad_f04da22028cbrow6_col1\">5</td>\n",
       "<td class=\"data row6 col2\" id=\"T_9b24f65c_58b8_11e9_aaad_f04da22028cbrow6_col2\">Tolga Durak</td>\n",
       "<td class=\"data row6 col3\" id=\"T_9b24f65c_58b8_11e9_aaad_f04da22028cbrow6_col3\">Caroline Sorensen</td>\n",
       "<td class=\"data row6 col4\" id=\"T_9b24f65c_58b8_11e9_aaad_f04da22028cbrow6_col4\">Ruizhi (Ray) Liao</td>\n",
       "</tr> <tr>\n",
       "<td class=\"data row7 col0\" id=\"T_9b24f65c_58b8_11e9_aaad_f04da22028cbrow7_col0\">Monday</td>\n",
       "<td class=\"data row7 col1\" id=\"T_9b24f65c_58b8_11e9_aaad_f04da22028cbrow7_col1\">6</td>\n",
       "<td class=\"data row7 col2\" id=\"T_9b24f65c_58b8_11e9_aaad_f04da22028cbrow7_col2\">Jérôme Michon</td>\n",
       "<td class=\"data row7 col3\" id=\"T_9b24f65c_58b8_11e9_aaad_f04da22028cbrow7_col3\">Karin Strittmatter</td>\n",
       "<td class=\"data row7 col4\" id=\"T_9b24f65c_58b8_11e9_aaad_f04da22028cbrow7_col4\">Will Suter</td>\n",
       "</tr> <tr>\n",
       "<td class=\"data row8 col0\" id=\"T_9b24f65c_58b8_11e9_aaad_f04da22028cbrow8_col0\">Monday</td>\n",
       "<td class=\"data row8 col1\" id=\"T_9b24f65c_58b8_11e9_aaad_f04da22028cbrow8_col1\">7</td>\n",
       "<td class=\"data row8 col2\" id=\"T_9b24f65c_58b8_11e9_aaad_f04da22028cbrow8_col2\">Richard Park</td>\n",
       "<td class=\"data row8 col3\" id=\"T_9b24f65c_58b8_11e9_aaad_f04da22028cbrow8_col3\">Rebecca Taft</td>\n",
       "<td class=\"data row8 col4\" id=\"T_9b24f65c_58b8_11e9_aaad_f04da22028cbrow8_col4\">Arno Schneuwly</td>\n",
       "</tr> <tr>\n",
       "<td class=\"data row9 col0\" id=\"T_9b24f65c_58b8_11e9_aaad_f04da22028cbrow9_col0\">Monday</td>\n",
       "<td class=\"data row9 col1\" id=\"T_9b24f65c_58b8_11e9_aaad_f04da22028cbrow9_col1\">8</td>\n",
       "<td class=\"data row9 col2\" id=\"T_9b24f65c_58b8_11e9_aaad_f04da22028cbrow9_col2\">Kevin Sitek</td>\n",
       "<td class=\"data row9 col3\" id=\"T_9b24f65c_58b8_11e9_aaad_f04da22028cbrow9_col3\">Audrey Bazerghi</td>\n",
       "<td class=\"data row9 col4\" id=\"T_9b24f65c_58b8_11e9_aaad_f04da22028cbrow9_col4\">Mary Kate Manhard</td>\n",
       "</tr></tbody>\n",
       "</table>"
      ],
      "text/plain": [
       "<IPython.core.display.HTML object>"
      ]
     },
     "execution_count": 6,
     "metadata": {},
     "output_type": "execute_result"
    }
   ],
   "source": [
    "HTML(tab)"
   ]
  },
  {
   "cell_type": "code",
   "execution_count": 7,
   "metadata": {
    "collapsed": false
   },
   "outputs": [
    {
     "data": {
      "text/html": [
       "<table id=\"T_9b24f65c_58b8_11e9_aaad_f04da22028cb\">\n",
       "<thead></thead>\n",
       "<tbody> <tr>\n",
       "<td class=\"data row0 col0\" id=\"T_9b24f65c_58b8_11e9_aaad_f04da22028cbrow0_col0\"></td>\n",
       "<td class=\"data row0 col1\" id=\"T_9b24f65c_58b8_11e9_aaad_f04da22028cbrow0_col1\">coach</td>\n",
       "<td class=\"data row0 col2\" id=\"T_9b24f65c_58b8_11e9_aaad_f04da22028cbrow0_col2\">Glenn Beauchemin</td>\n",
       "<td class=\"data row0 col3\" id=\"T_9b24f65c_58b8_11e9_aaad_f04da22028cbrow0_col3\">Glenn Beauchemin</td>\n",
       "<td class=\"data row0 col4\" id=\"T_9b24f65c_58b8_11e9_aaad_f04da22028cbrow0_col4\">John Cotter</td>\n",
       "</tr> <tr>\n",
       "<td class=\"data row1 col0\" id=\"T_9b24f65c_58b8_11e9_aaad_f04da22028cbrow1_col0\"></td>\n",
       "<td class=\"data row1 col1\" id=\"T_9b24f65c_58b8_11e9_aaad_f04da22028cbrow1_col1\">cox</td>\n",
       "<td class=\"data row1 col2\" id=\"T_9b24f65c_58b8_11e9_aaad_f04da22028cbrow1_col2\">Olivia Viessmann</td>\n",
       "<td class=\"data row1 col3\" id=\"T_9b24f65c_58b8_11e9_aaad_f04da22028cbrow1_col3\">Ryan Bellmore</td>\n",
       "<td class=\"data row1 col4\" id=\"T_9b24f65c_58b8_11e9_aaad_f04da22028cbrow1_col4\">Nanako Ruping</td>\n",
       "</tr> <tr>\n",
       "<td class=\"data row2 col0\" id=\"T_9b24f65c_58b8_11e9_aaad_f04da22028cbrow2_col0\">Monday</td>\n",
       "<td class=\"data row2 col1\" id=\"T_9b24f65c_58b8_11e9_aaad_f04da22028cbrow2_col1\">1</td>\n",
       "<td class=\"data row2 col2\" id=\"T_9b24f65c_58b8_11e9_aaad_f04da22028cbrow2_col2\">Anne Fraysse</td>\n",
       "<td class=\"data row2 col3\" id=\"T_9b24f65c_58b8_11e9_aaad_f04da22028cbrow2_col3\">Aimee Gillespie</td>\n",
       "<td class=\"data row2 col4\" id=\"T_9b24f65c_58b8_11e9_aaad_f04da22028cbrow2_col4\">Dana Boebinger</td>\n",
       "</tr> <tr>\n",
       "<td class=\"data row3 col0\" id=\"T_9b24f65c_58b8_11e9_aaad_f04da22028cbrow3_col0\">Monday</td>\n",
       "<td class=\"data row3 col1\" id=\"T_9b24f65c_58b8_11e9_aaad_f04da22028cbrow3_col1\">2</td>\n",
       "<td class=\"data row3 col2\" id=\"T_9b24f65c_58b8_11e9_aaad_f04da22028cbrow3_col2\">Elise Ledieu</td>\n",
       "<td class=\"data row3 col3\" id=\"T_9b24f65c_58b8_11e9_aaad_f04da22028cbrow3_col3\">Corina MacIsaac</td>\n",
       "<td class=\"data row3 col4\" id=\"T_9b24f65c_58b8_11e9_aaad_f04da22028cbrow3_col4\">Aileen Devlin</td>\n",
       "</tr> <tr>\n",
       "<td class=\"data row4 col0\" id=\"T_9b24f65c_58b8_11e9_aaad_f04da22028cbrow4_col0\">Monday</td>\n",
       "<td class=\"data row4 col1\" id=\"T_9b24f65c_58b8_11e9_aaad_f04da22028cbrow4_col1\">3</td>\n",
       "<td class=\"data row4 col2\" id=\"T_9b24f65c_58b8_11e9_aaad_f04da22028cbrow4_col2\">Beth Pearce</td>\n",
       "<td class=\"data row4 col3\" id=\"T_9b24f65c_58b8_11e9_aaad_f04da22028cbrow4_col3\"></td>\n",
       "<td class=\"data row4 col4\" id=\"T_9b24f65c_58b8_11e9_aaad_f04da22028cbrow4_col4\">Andrew Cunningham</td>\n",
       "</tr> <tr>\n",
       "<td class=\"data row5 col0\" id=\"T_9b24f65c_58b8_11e9_aaad_f04da22028cbrow5_col0\">Monday</td>\n",
       "<td class=\"data row5 col1\" id=\"T_9b24f65c_58b8_11e9_aaad_f04da22028cbrow5_col1\">4</td>\n",
       "<td class=\"data row5 col2\" id=\"T_9b24f65c_58b8_11e9_aaad_f04da22028cbrow5_col2\">KellyAnn Tsai</td>\n",
       "<td class=\"data row5 col3\" id=\"T_9b24f65c_58b8_11e9_aaad_f04da22028cbrow5_col3\">Kasturi Shah</td>\n",
       "<td class=\"data row5 col4\" id=\"T_9b24f65c_58b8_11e9_aaad_f04da22028cbrow5_col4\">Ronan Doorley</td>\n",
       "</tr> <tr>\n",
       "<td class=\"data row6 col0\" id=\"T_9b24f65c_58b8_11e9_aaad_f04da22028cbrow6_col0\">Monday</td>\n",
       "<td class=\"data row6 col1\" id=\"T_9b24f65c_58b8_11e9_aaad_f04da22028cbrow6_col1\">5</td>\n",
       "<td class=\"data row6 col2\" id=\"T_9b24f65c_58b8_11e9_aaad_f04da22028cbrow6_col2\">Tolga Durak</td>\n",
       "<td class=\"data row6 col3\" id=\"T_9b24f65c_58b8_11e9_aaad_f04da22028cbrow6_col3\">Caroline Sorensen</td>\n",
       "<td class=\"data row6 col4\" id=\"T_9b24f65c_58b8_11e9_aaad_f04da22028cbrow6_col4\">Ruizhi (Ray) Liao</td>\n",
       "</tr> <tr>\n",
       "<td class=\"data row7 col0\" id=\"T_9b24f65c_58b8_11e9_aaad_f04da22028cbrow7_col0\">Monday</td>\n",
       "<td class=\"data row7 col1\" id=\"T_9b24f65c_58b8_11e9_aaad_f04da22028cbrow7_col1\">6</td>\n",
       "<td class=\"data row7 col2\" id=\"T_9b24f65c_58b8_11e9_aaad_f04da22028cbrow7_col2\">Jérôme Michon</td>\n",
       "<td class=\"data row7 col3\" id=\"T_9b24f65c_58b8_11e9_aaad_f04da22028cbrow7_col3\">Karin Strittmatter</td>\n",
       "<td class=\"data row7 col4\" id=\"T_9b24f65c_58b8_11e9_aaad_f04da22028cbrow7_col4\">Will Suter</td>\n",
       "</tr> <tr>\n",
       "<td class=\"data row8 col0\" id=\"T_9b24f65c_58b8_11e9_aaad_f04da22028cbrow8_col0\">Monday</td>\n",
       "<td class=\"data row8 col1\" id=\"T_9b24f65c_58b8_11e9_aaad_f04da22028cbrow8_col1\">7</td>\n",
       "<td class=\"data row8 col2\" id=\"T_9b24f65c_58b8_11e9_aaad_f04da22028cbrow8_col2\">Richard Park</td>\n",
       "<td class=\"data row8 col3\" id=\"T_9b24f65c_58b8_11e9_aaad_f04da22028cbrow8_col3\">Rebecca Taft</td>\n",
       "<td class=\"data row8 col4\" id=\"T_9b24f65c_58b8_11e9_aaad_f04da22028cbrow8_col4\">Arno Schneuwly</td>\n",
       "</tr> <tr>\n",
       "<td class=\"data row9 col0\" id=\"T_9b24f65c_58b8_11e9_aaad_f04da22028cbrow9_col0\">Monday</td>\n",
       "<td class=\"data row9 col1\" id=\"T_9b24f65c_58b8_11e9_aaad_f04da22028cbrow9_col1\">8</td>\n",
       "<td class=\"data row9 col2\" id=\"T_9b24f65c_58b8_11e9_aaad_f04da22028cbrow9_col2\">Kevin Sitek</td>\n",
       "<td class=\"data row9 col3\" id=\"T_9b24f65c_58b8_11e9_aaad_f04da22028cbrow9_col3\">Audrey Bazerghi</td>\n",
       "<td class=\"data row9 col4\" id=\"T_9b24f65c_58b8_11e9_aaad_f04da22028cbrow9_col4\">Mary Kate Manhard</td>\n",
       "</tr></tbody>\n",
       "</table>"
      ],
      "text/plain": [
       "<IPython.core.display.HTML object>"
      ]
     },
     "execution_count": 7,
     "metadata": {},
     "output_type": "execute_result"
    }
   ],
   "source": [
    "HTML(tab)"
   ]
  },
  {
   "cell_type": "code",
   "execution_count": null,
   "metadata": {
    "collapsed": true
   },
   "outputs": [],
   "source": []
  }
 ],
 "metadata": {
  "anaconda-cloud": {},
  "kernelspec": {
   "display_name": "Python 3",
   "language": "python",
   "name": "python3"
  },
  "language_info": {
   "codemirror_mode": {
    "name": "ipython",
    "version": 3
   },
   "file_extension": ".py",
   "mimetype": "text/x-python",
   "name": "python",
   "nbconvert_exporter": "python",
   "pygments_lexer": "ipython3",
   "version": "3.6.0"
  }
 },
 "nbformat": 4,
 "nbformat_minor": 2
}
