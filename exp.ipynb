{
 "cells": [
  {
   "cell_type": "code",
   "execution_count": 178,
   "metadata": {},
   "outputs": [],
   "source": [
    "import pandas as pd\n",
    "from bs4 import BeautifulSoup\n",
    "import bs4"
   ]
  },
  {
   "cell_type": "code",
   "execution_count": 184,
   "metadata": {},
   "outputs": [],
   "source": [
    "values = [['coach', 'cox', 'Monday', 'Monday', 'Monday', 'Monday', 'Monday', 'Monday', 'Monday', 'Monday'], ['1', '1', '1', '1', '1', '1', '1', '1', '1', '1'], ['*', '', '1', '2', '3', '4', '5', '6', '7', '8'], ['Glenn Beauchemin', 'Olivia Viessmann', 'Anne Fraysse', 'Elise Ledieu', 'Beth Pearce', 'KellyAnn Tsai', 'Tolga Durak', 'Jérôme Michon', 'Richard Park', 'Kevin Sitek'], ['Glenn Beauchemin', 'Ryan Bellmore', 'Aimee Gillespie', 'Corina MacIsaac', 'empty', 'Kasturi Shah', 'Caroline Sorensen', 'Karin Strittmatter', 'Rebecca Taft', 'Audrey Bazerghi'], ['John Cotter', 'Nanako Ruping', 'Dana Boebinger', 'Aileen Devlin', 'Andrew Cunningham', 'Ronan Doorley', 'Ruizhi (Ray) Liao', 'Will Suter', 'Arno Schneuwly', 'Mary Kate Manhard'], ['empty', 'empty', 'empty', 'empty', 'empty', 'empty', 'empty', 'empty', 'empty', 'empty'], ['empty', 'empty', 'empty', 'empty', 'empty', 'empty', 'empty', 'empty', 'empty', 'empty']]\n",
    "#values = [['coach', 'cox', 'Tuesday', 'Tuesday', 'Tuesday', 'Tuesday', 'Tuesday', 'Tuesday', 'Tuesday', 'Tuesday'], ['2', '2', '2', '2', '2', '2', '2', '2', '2', '2'], ['*', '', '1', '2', '3', '4', '5', '6', '7', '8'], ['John Cotter', 'Jayanth Uppaluri', 'Anita Chandrahas', 'Joleen Heiderich', 'Mary Kate Manhard', 'Jim Serdy ', 'Kevin Sitek', 'Gowtham Thakku', 'Ruizhi (Ray) Liao', 'Christine Kerney-Slocombe'], ['Andre Bastos', 'Andrew Cunningham', 'Audrey Bazerghi', 'Shijie Gu', 'Richard McWalter', 'Will Suter', 'Yongjin Park', 'Arno Schneuwly', 'Luzi Sennhauser', 'Sarah Trice'], ['empty', 'empty', 'empty', 'empty', 'empty', 'empty', 'empty', 'empty', 'empty', 'empty'], ['empty', 'empty', 'empty', 'empty', 'empty', 'empty', 'empty', 'empty', 'empty', 'empty'], ['Glenn Beauchemin', 'Ryan Bellmore', 'Yang Dai', 'Juan Pablo Duarte Pardo', 'Marco Lucente', 'Leandro Araujo', 'Elisa Carmo', 'Nick Yerin', 'Leonardo Aguiar', 'Marien Kamal']]"
   ]
  },
  {
   "cell_type": "code",
   "execution_count": 185,
   "metadata": {},
   "outputs": [],
   "source": [
    "def process_values(values):\n",
    "    df = pd.DataFrame(values).transpose()\n",
    "    df = df.drop(1,axis=1).applymap(lambda x: None if x == 'empty' else x).dropna(axis=1)\n",
    "    return df\n",
    "\n",
    "def render_table(df):\n",
    "    table_styles = [dict(selector='', props=[('margin', 0), ('font-family', 'monospace')]),\n",
    "             dict(selector='.row0', props=[('background-color', '#aaa')]),\n",
    "            dict(selector='.row1', props=[('background-color', '#ccc')]),\n",
    "            dict(selector='tr:hover', props=[('background-color', '#ffff99')]),\n",
    "               ]\n",
    "    obj = df.style.set_table_styles(table_styles).hide_index()\n",
    "    rend = obj.render(head='')\n",
    "    \n",
    "    soup = BeautifulSoup(rend, 'html.parser')\n",
    "    stl = soup.find_all('style')[0]\n",
    "    tab = soup.find_all('table')[0]\n",
    "    \n",
    "    return stl,tab"
   ]
  },
  {
   "cell_type": "code",
   "execution_count": 186,
   "metadata": {},
   "outputs": [
    {
     "ename": "UnicodeDecodeError",
     "evalue": "'ascii' codec can't decode byte 0xc3 in position 1: ordinal not in range(128)",
     "output_type": "error",
     "traceback": [
      "\u001b[0;31m---------------------------------------------------------------------------\u001b[0m",
      "\u001b[0;31mUnicodeDecodeError\u001b[0m                        Traceback (most recent call last)",
      "\u001b[0;32m<ipython-input-186-e35ed39105d3>\u001b[0m in \u001b[0;36m<module>\u001b[0;34m()\u001b[0m\n\u001b[1;32m      1\u001b[0m \u001b[0mdf\u001b[0m \u001b[0;34m=\u001b[0m \u001b[0mprocess_values\u001b[0m\u001b[0;34m(\u001b[0m\u001b[0mvalues\u001b[0m\u001b[0;34m)\u001b[0m\u001b[0;34m\u001b[0m\u001b[0m\n\u001b[0;32m----> 2\u001b[0;31m \u001b[0mstl\u001b[0m\u001b[0;34m,\u001b[0m\u001b[0mtab\u001b[0m \u001b[0;34m=\u001b[0m \u001b[0mrender_table\u001b[0m\u001b[0;34m(\u001b[0m\u001b[0mdf\u001b[0m\u001b[0;34m)\u001b[0m\u001b[0;34m\u001b[0m\u001b[0m\n\u001b[0m",
      "\u001b[0;32m<ipython-input-185-7b41c4dfd343>\u001b[0m in \u001b[0;36mrender_table\u001b[0;34m(df)\u001b[0m\n\u001b[1;32m     11\u001b[0m                ]\n\u001b[1;32m     12\u001b[0m     \u001b[0mobj\u001b[0m \u001b[0;34m=\u001b[0m \u001b[0mdf\u001b[0m\u001b[0;34m.\u001b[0m\u001b[0mstyle\u001b[0m\u001b[0;34m.\u001b[0m\u001b[0mset_table_styles\u001b[0m\u001b[0;34m(\u001b[0m\u001b[0mtable_styles\u001b[0m\u001b[0;34m)\u001b[0m\u001b[0;34m.\u001b[0m\u001b[0mhide_index\u001b[0m\u001b[0;34m(\u001b[0m\u001b[0;34m)\u001b[0m\u001b[0;34m\u001b[0m\u001b[0m\n\u001b[0;32m---> 13\u001b[0;31m     \u001b[0mrend\u001b[0m \u001b[0;34m=\u001b[0m \u001b[0mobj\u001b[0m\u001b[0;34m.\u001b[0m\u001b[0mrender\u001b[0m\u001b[0;34m(\u001b[0m\u001b[0mhead\u001b[0m\u001b[0;34m=\u001b[0m\u001b[0;34m''\u001b[0m\u001b[0;34m)\u001b[0m\u001b[0;34m\u001b[0m\u001b[0m\n\u001b[0m\u001b[1;32m     14\u001b[0m \u001b[0;34m\u001b[0m\u001b[0m\n\u001b[1;32m     15\u001b[0m     \u001b[0msoup\u001b[0m \u001b[0;34m=\u001b[0m \u001b[0mBeautifulSoup\u001b[0m\u001b[0;34m(\u001b[0m\u001b[0mrend\u001b[0m\u001b[0;34m,\u001b[0m \u001b[0;34m'html.parser'\u001b[0m\u001b[0;34m)\u001b[0m\u001b[0;34m\u001b[0m\u001b[0m\n",
      "\u001b[0;32m/home/orm/anaconda3/envs/vroom2/lib/python2.7/site-packages/pandas/io/formats/style.pyc\u001b[0m in \u001b[0;36mrender\u001b[0;34m(self, **kwargs)\u001b[0m\n\u001b[1;32m    454\u001b[0m         \u001b[0md\u001b[0m\u001b[0;34m[\u001b[0m\u001b[0;34m'cellstyle'\u001b[0m\u001b[0;34m]\u001b[0m \u001b[0;34m=\u001b[0m \u001b[0mtrimmed\u001b[0m\u001b[0;34m\u001b[0m\u001b[0m\n\u001b[1;32m    455\u001b[0m         \u001b[0md\u001b[0m\u001b[0;34m.\u001b[0m\u001b[0mupdate\u001b[0m\u001b[0;34m(\u001b[0m\u001b[0mkwargs\u001b[0m\u001b[0;34m)\u001b[0m\u001b[0;34m\u001b[0m\u001b[0m\n\u001b[0;32m--> 456\u001b[0;31m         \u001b[0;32mreturn\u001b[0m \u001b[0mself\u001b[0m\u001b[0;34m.\u001b[0m\u001b[0mtemplate\u001b[0m\u001b[0;34m.\u001b[0m\u001b[0mrender\u001b[0m\u001b[0;34m(\u001b[0m\u001b[0;34m**\u001b[0m\u001b[0md\u001b[0m\u001b[0;34m)\u001b[0m\u001b[0;34m\u001b[0m\u001b[0m\n\u001b[0m\u001b[1;32m    457\u001b[0m \u001b[0;34m\u001b[0m\u001b[0m\n\u001b[1;32m    458\u001b[0m     \u001b[0;32mdef\u001b[0m \u001b[0m_update_ctx\u001b[0m\u001b[0;34m(\u001b[0m\u001b[0mself\u001b[0m\u001b[0;34m,\u001b[0m \u001b[0mattrs\u001b[0m\u001b[0;34m)\u001b[0m\u001b[0;34m:\u001b[0m\u001b[0;34m\u001b[0m\u001b[0m\n",
      "\u001b[0;32m/home/orm/anaconda3/envs/vroom2/lib/python2.7/site-packages/jinja2/environment.pyc\u001b[0m in \u001b[0;36mrender\u001b[0;34m(self, *args, **kwargs)\u001b[0m\n\u001b[1;32m   1006\u001b[0m         \u001b[0;32mexcept\u001b[0m \u001b[0mException\u001b[0m\u001b[0;34m:\u001b[0m\u001b[0;34m\u001b[0m\u001b[0m\n\u001b[1;32m   1007\u001b[0m             \u001b[0mexc_info\u001b[0m \u001b[0;34m=\u001b[0m \u001b[0msys\u001b[0m\u001b[0;34m.\u001b[0m\u001b[0mexc_info\u001b[0m\u001b[0;34m(\u001b[0m\u001b[0;34m)\u001b[0m\u001b[0;34m\u001b[0m\u001b[0m\n\u001b[0;32m-> 1008\u001b[0;31m         \u001b[0;32mreturn\u001b[0m \u001b[0mself\u001b[0m\u001b[0;34m.\u001b[0m\u001b[0menvironment\u001b[0m\u001b[0;34m.\u001b[0m\u001b[0mhandle_exception\u001b[0m\u001b[0;34m(\u001b[0m\u001b[0mexc_info\u001b[0m\u001b[0;34m,\u001b[0m \u001b[0mTrue\u001b[0m\u001b[0;34m)\u001b[0m\u001b[0;34m\u001b[0m\u001b[0m\n\u001b[0m\u001b[1;32m   1009\u001b[0m \u001b[0;34m\u001b[0m\u001b[0m\n\u001b[1;32m   1010\u001b[0m     \u001b[0;32mdef\u001b[0m \u001b[0mrender_async\u001b[0m\u001b[0;34m(\u001b[0m\u001b[0mself\u001b[0m\u001b[0;34m,\u001b[0m \u001b[0;34m*\u001b[0m\u001b[0margs\u001b[0m\u001b[0;34m,\u001b[0m \u001b[0;34m**\u001b[0m\u001b[0mkwargs\u001b[0m\u001b[0;34m)\u001b[0m\u001b[0;34m:\u001b[0m\u001b[0;34m\u001b[0m\u001b[0m\n",
      "\u001b[0;32m/home/orm/anaconda3/envs/vroom2/lib/python2.7/site-packages/jinja2/environment.pyc\u001b[0m in \u001b[0;36mhandle_exception\u001b[0;34m(self, exc_info, rendered, source_hint)\u001b[0m\n\u001b[1;32m    778\u001b[0m             \u001b[0mself\u001b[0m\u001b[0;34m.\u001b[0m\u001b[0mexception_handler\u001b[0m\u001b[0;34m(\u001b[0m\u001b[0mtraceback\u001b[0m\u001b[0;34m)\u001b[0m\u001b[0;34m\u001b[0m\u001b[0m\n\u001b[1;32m    779\u001b[0m         \u001b[0mexc_type\u001b[0m\u001b[0;34m,\u001b[0m \u001b[0mexc_value\u001b[0m\u001b[0;34m,\u001b[0m \u001b[0mtb\u001b[0m \u001b[0;34m=\u001b[0m \u001b[0mtraceback\u001b[0m\u001b[0;34m.\u001b[0m\u001b[0mstandard_exc_info\u001b[0m\u001b[0;34m\u001b[0m\u001b[0m\n\u001b[0;32m--> 780\u001b[0;31m         \u001b[0mreraise\u001b[0m\u001b[0;34m(\u001b[0m\u001b[0mexc_type\u001b[0m\u001b[0;34m,\u001b[0m \u001b[0mexc_value\u001b[0m\u001b[0;34m,\u001b[0m \u001b[0mtb\u001b[0m\u001b[0;34m)\u001b[0m\u001b[0;34m\u001b[0m\u001b[0m\n\u001b[0m\u001b[1;32m    781\u001b[0m \u001b[0;34m\u001b[0m\u001b[0m\n\u001b[1;32m    782\u001b[0m     \u001b[0;32mdef\u001b[0m \u001b[0mjoin_path\u001b[0m\u001b[0;34m(\u001b[0m\u001b[0mself\u001b[0m\u001b[0;34m,\u001b[0m \u001b[0mtemplate\u001b[0m\u001b[0;34m,\u001b[0m \u001b[0mparent\u001b[0m\u001b[0;34m)\u001b[0m\u001b[0;34m:\u001b[0m\u001b[0;34m\u001b[0m\u001b[0m\n",
      "\u001b[0;32m/home/orm/anaconda3/envs/vroom2/lib/python2.7/site-packages/pandas/io/formats/templates/html.tpl\u001b[0m in \u001b[0;36mtop-level template code\u001b[0;34m()\u001b[0m\n\u001b[1;32m     25\u001b[0m \u001b[0;34m{\u001b[0m\u001b[0;34m%\u001b[0m\u001b[0;34m-\u001b[0m \u001b[0mendblock\u001b[0m \u001b[0mstyle\u001b[0m \u001b[0;34m%\u001b[0m\u001b[0;34m}\u001b[0m\u001b[0;34m\u001b[0m\u001b[0m\n\u001b[1;32m     26\u001b[0m \u001b[0;34m{\u001b[0m\u001b[0;34m%\u001b[0m\u001b[0;34m-\u001b[0m \u001b[0mblock\u001b[0m \u001b[0mbefore_table\u001b[0m \u001b[0;34m%\u001b[0m\u001b[0;34m}\u001b[0m\u001b[0;34m{\u001b[0m\u001b[0;34m%\u001b[0m \u001b[0mendblock\u001b[0m \u001b[0mbefore_table\u001b[0m \u001b[0;34m%\u001b[0m\u001b[0;34m}\u001b[0m\u001b[0;34m\u001b[0m\u001b[0m\n\u001b[0;32m---> 27\u001b[0;31m \u001b[0;34m{\u001b[0m\u001b[0;34m%\u001b[0m\u001b[0;34m-\u001b[0m \u001b[0mblock\u001b[0m \u001b[0mtable\u001b[0m \u001b[0;34m%\u001b[0m\u001b[0;34m}\u001b[0m\u001b[0;34m\u001b[0m\u001b[0m\n\u001b[0m\u001b[1;32m     28\u001b[0m \u001b[0;34m<\u001b[0m\u001b[0mtable\u001b[0m \u001b[0mid\u001b[0m\u001b[0;34m=\u001b[0m\u001b[0;34m\"T_{{uuid}}\"\u001b[0m \u001b[0;34m{\u001b[0m\u001b[0;34m%\u001b[0m \u001b[0;32mif\u001b[0m \u001b[0mtable_attributes\u001b[0m \u001b[0;34m%\u001b[0m\u001b[0;34m}\u001b[0m\u001b[0;34m{\u001b[0m\u001b[0;34m{\u001b[0m \u001b[0mtable_attributes\u001b[0m \u001b[0;34m}\u001b[0m\u001b[0;34m}\u001b[0m\u001b[0;34m{\u001b[0m\u001b[0;34m%\u001b[0m \u001b[0mendif\u001b[0m \u001b[0;34m%\u001b[0m\u001b[0;34m}\u001b[0m\u001b[0;34m>\u001b[0m\u001b[0;34m\u001b[0m\u001b[0m\n\u001b[1;32m     29\u001b[0m \u001b[0;34m{\u001b[0m\u001b[0;34m%\u001b[0m\u001b[0;34m-\u001b[0m \u001b[0mblock\u001b[0m \u001b[0mcaption\u001b[0m \u001b[0;34m%\u001b[0m\u001b[0;34m}\u001b[0m\u001b[0;34m\u001b[0m\u001b[0m\n",
      "\u001b[0;32m/home/orm/anaconda3/envs/vroom2/lib/python2.7/site-packages/pandas/io/formats/templates/html.tpl\u001b[0m in \u001b[0;36mblock \"table\"\u001b[0;34m()\u001b[0m\n\u001b[1;32m     49\u001b[0m \u001b[0;34m<\u001b[0m\u001b[0;34m/\u001b[0m\u001b[0mthead\u001b[0m\u001b[0;34m>\u001b[0m\u001b[0;34m\u001b[0m\u001b[0m\n\u001b[1;32m     50\u001b[0m \u001b[0;34m{\u001b[0m\u001b[0;34m%\u001b[0m\u001b[0;34m-\u001b[0m \u001b[0mendblock\u001b[0m \u001b[0mthead\u001b[0m \u001b[0;34m%\u001b[0m\u001b[0;34m}\u001b[0m\u001b[0;34m\u001b[0m\u001b[0m\n\u001b[0;32m---> 51\u001b[0;31m \u001b[0;34m{\u001b[0m\u001b[0;34m%\u001b[0m\u001b[0;34m-\u001b[0m \u001b[0mblock\u001b[0m \u001b[0mtbody\u001b[0m \u001b[0;34m%\u001b[0m\u001b[0;34m}\u001b[0m\u001b[0;34m\u001b[0m\u001b[0m\n\u001b[0m\u001b[1;32m     52\u001b[0m \u001b[0;34m<\u001b[0m\u001b[0mtbody\u001b[0m\u001b[0;34m>\u001b[0m\u001b[0;34m\u001b[0m\u001b[0m\n\u001b[1;32m     53\u001b[0m     \u001b[0;34m{\u001b[0m\u001b[0;34m%\u001b[0m\u001b[0;34m-\u001b[0m \u001b[0mblock\u001b[0m \u001b[0mbefore_rows\u001b[0m \u001b[0;34m%\u001b[0m\u001b[0;34m}\u001b[0m\u001b[0;34m{\u001b[0m\u001b[0;34m%\u001b[0m\u001b[0;34m-\u001b[0m \u001b[0mendblock\u001b[0m \u001b[0mbefore_rows\u001b[0m \u001b[0;34m%\u001b[0m\u001b[0;34m}\u001b[0m\u001b[0;34m\u001b[0m\u001b[0m\n",
      "\u001b[0;32m/home/orm/anaconda3/envs/vroom2/lib/python2.7/site-packages/pandas/io/formats/templates/html.tpl\u001b[0m in \u001b[0;36mblock \"tbody\"\u001b[0;34m()\u001b[0m\n\u001b[1;32m     53\u001b[0m     \u001b[0;34m{\u001b[0m\u001b[0;34m%\u001b[0m\u001b[0;34m-\u001b[0m \u001b[0mblock\u001b[0m \u001b[0mbefore_rows\u001b[0m \u001b[0;34m%\u001b[0m\u001b[0;34m}\u001b[0m\u001b[0;34m{\u001b[0m\u001b[0;34m%\u001b[0m\u001b[0;34m-\u001b[0m \u001b[0mendblock\u001b[0m \u001b[0mbefore_rows\u001b[0m \u001b[0;34m%\u001b[0m\u001b[0;34m}\u001b[0m\u001b[0;34m\u001b[0m\u001b[0m\n\u001b[1;32m     54\u001b[0m     \u001b[0;34m{\u001b[0m\u001b[0;34m%\u001b[0m\u001b[0;34m-\u001b[0m \u001b[0;32mfor\u001b[0m \u001b[0mr\u001b[0m \u001b[0;32min\u001b[0m \u001b[0mbody\u001b[0m \u001b[0;34m%\u001b[0m\u001b[0;34m}\u001b[0m\u001b[0;34m\u001b[0m\u001b[0m\n\u001b[0;32m---> 55\u001b[0;31m     \u001b[0;34m{\u001b[0m\u001b[0;34m%\u001b[0m\u001b[0;34m-\u001b[0m \u001b[0mblock\u001b[0m \u001b[0mtr\u001b[0m \u001b[0mscoped\u001b[0m \u001b[0;34m%\u001b[0m\u001b[0;34m}\u001b[0m\u001b[0;34m\u001b[0m\u001b[0m\n\u001b[0m\u001b[1;32m     56\u001b[0m     \u001b[0;34m<\u001b[0m\u001b[0mtr\u001b[0m\u001b[0;34m>\u001b[0m\u001b[0;34m\u001b[0m\u001b[0m\n\u001b[1;32m     57\u001b[0m         \u001b[0;34m{\u001b[0m\u001b[0;34m%\u001b[0m\u001b[0;34m-\u001b[0m \u001b[0;32mfor\u001b[0m \u001b[0mc\u001b[0m \u001b[0;32min\u001b[0m \u001b[0mr\u001b[0m \u001b[0;34m%\u001b[0m\u001b[0;34m}\u001b[0m\u001b[0;34m\u001b[0m\u001b[0m\n",
      "\u001b[0;32m/home/orm/anaconda3/envs/vroom2/lib/python2.7/site-packages/pandas/io/formats/templates/html.tpl\u001b[0m in \u001b[0;36mblock \"tr\"\u001b[0;34m()\u001b[0m\n\u001b[1;32m     57\u001b[0m         \u001b[0;34m{\u001b[0m\u001b[0;34m%\u001b[0m\u001b[0;34m-\u001b[0m \u001b[0;32mfor\u001b[0m \u001b[0mc\u001b[0m \u001b[0;32min\u001b[0m \u001b[0mr\u001b[0m \u001b[0;34m%\u001b[0m\u001b[0;34m}\u001b[0m\u001b[0;34m\u001b[0m\u001b[0m\n\u001b[1;32m     58\u001b[0m         \u001b[0;34m{\u001b[0m\u001b[0;34m%\u001b[0m\u001b[0;34m-\u001b[0m \u001b[0;32mif\u001b[0m \u001b[0mc\u001b[0m\u001b[0;34m.\u001b[0m\u001b[0mis_visible\u001b[0m \u001b[0;34m!=\u001b[0m \u001b[0mFalse\u001b[0m \u001b[0;34m%\u001b[0m\u001b[0;34m}\u001b[0m\u001b[0;34m\u001b[0m\u001b[0m\n\u001b[0;32m---> 59\u001b[0;31m         \u001b[0;34m<\u001b[0m\u001b[0;34m{\u001b[0m\u001b[0;34m{\u001b[0m \u001b[0mc\u001b[0m\u001b[0;34m.\u001b[0m\u001b[0mtype\u001b[0m \u001b[0;34m}\u001b[0m\u001b[0;34m}\u001b[0m \u001b[0mid\u001b[0m\u001b[0;34m=\u001b[0m\u001b[0;34m\"T_{{ uuid }}{{ c.id }}\"\u001b[0m \u001b[0;32mclass\u001b[0m\u001b[0;34m=\u001b[0m\u001b[0;34m\"{{ c.class }}\"\u001b[0m \u001b[0;34m{\u001b[0m\u001b[0;34m{\u001b[0m \u001b[0mc\u001b[0m\u001b[0;34m.\u001b[0m\u001b[0mattributes\u001b[0m\u001b[0;34m|\u001b[0m\u001b[0mjoin\u001b[0m\u001b[0;34m(\u001b[0m\u001b[0;34m\" \"\u001b[0m\u001b[0;34m)\u001b[0m \u001b[0;34m}\u001b[0m\u001b[0;34m}\u001b[0m\u001b[0;34m>\u001b[0m\u001b[0;34m{\u001b[0m\u001b[0;34m{\u001b[0m \u001b[0mc\u001b[0m\u001b[0;34m.\u001b[0m\u001b[0mdisplay_value\u001b[0m \u001b[0;34m}\u001b[0m\u001b[0;34m}\u001b[0m\u001b[0;34m<\u001b[0m\u001b[0;34m/\u001b[0m\u001b[0;34m{\u001b[0m\u001b[0;34m{\u001b[0m \u001b[0mc\u001b[0m\u001b[0;34m.\u001b[0m\u001b[0mtype\u001b[0m \u001b[0;34m}\u001b[0m\u001b[0;34m}\u001b[0m\u001b[0;34m>\u001b[0m\u001b[0;34m\u001b[0m\u001b[0m\n\u001b[0m\u001b[1;32m     60\u001b[0m         \u001b[0;34m{\u001b[0m\u001b[0;34m%\u001b[0m\u001b[0;34m-\u001b[0m \u001b[0mendif\u001b[0m \u001b[0;34m%\u001b[0m\u001b[0;34m}\u001b[0m\u001b[0;34m\u001b[0m\u001b[0m\n\u001b[1;32m     61\u001b[0m         \u001b[0;34m{\u001b[0m\u001b[0;34m%\u001b[0m\u001b[0;34m-\u001b[0m \u001b[0mendfor\u001b[0m \u001b[0;34m%\u001b[0m\u001b[0;34m}\u001b[0m\u001b[0;34m\u001b[0m\u001b[0m\n",
      "\u001b[0;31mUnicodeDecodeError\u001b[0m: 'ascii' codec can't decode byte 0xc3 in position 1: ordinal not in range(128)"
     ]
    }
   ],
   "source": [
    "df = process_values(values)\n",
    "stl,tab = render_table(df)"
   ]
  },
  {
   "cell_type": "code",
   "execution_count": 183,
   "metadata": {},
   "outputs": [
    {
     "data": {
      "text/plain": [
       "<style type=\"text/css\">\\n    #T_126522bc_aecf_11e8_8ed9_3497f65a40f9  {\\n          margin: 0;\\n          font-family: monospace;\\n    }    #T_126522bc_aecf_11e8_8ed9_3497f65a40f9 .row0 {\\n          background-color: #aaa;\\n    }    #T_126522bc_aecf_11e8_8ed9_3497f65a40f9 .row1 {\\n          background-color: #ccc;\\n    }    #T_126522bc_aecf_11e8_8ed9_3497f65a40f9 tr:hover {\\n          background-color: #ffff99;\\n    }</style>"
      ]
     },
     "execution_count": 183,
     "metadata": {},
     "output_type": "execute_result"
    }
   ],
   "source": [
    "stl"
   ]
  },
  {
   "cell_type": "code",
   "execution_count": null,
   "metadata": {},
   "outputs": [],
   "source": []
  }
 ],
 "metadata": {
  "kernelspec": {
   "display_name": "Python 2",
   "language": "python",
   "name": "python2"
  },
  "language_info": {
   "codemirror_mode": {
    "name": "ipython",
    "version": 2
   },
   "file_extension": ".py",
   "mimetype": "text/x-python",
   "name": "python",
   "nbconvert_exporter": "python",
   "pygments_lexer": "ipython2",
   "version": "2.7.15"
  }
 },
 "nbformat": 4,
 "nbformat_minor": 2
}
